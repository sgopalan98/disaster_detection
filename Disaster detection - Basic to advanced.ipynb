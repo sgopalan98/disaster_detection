{
 "cells": [
  {
   "cell_type": "markdown",
   "metadata": {},
   "source": [
    "\n",
    "## Loading Libraries"
   ]
  },
  {
   "cell_type": "code",
   "execution_count": 339,
   "metadata": {},
   "outputs": [],
   "source": [
    "import os\n",
    "import numpy as np\n",
    "import pandas as pd\n",
    "import matplotlib.pyplot as plt\n",
    "import seaborn as sns\n",
    "from wordcloud import WordCloud\n",
    "import re\n",
    "import emoji\n",
    "import wordninja\n",
    "import pickle\n",
    "from tensorflow.keras.preprocessing import text, sequence\n",
    "\n",
    "import tensorflow as tf\n",
    "from tensorflow.keras.layers import Input, Dense, Embedding, SpatialDropout1D, add, concatenate\n",
    "from tensorflow.keras.layers import LSTM, Bidirectional, GlobalMaxPooling1D, GlobalAveragePooling1D\n",
    "from tensorflow.keras.preprocessing import text, sequence\n",
    "from tensorflow.keras.models import Model\n",
    "\n",
    "from IPython.display import Markdown as md\n",
    "plt.style.use('ggplot')\n",
    "\n",
    "from sklearn.metrics import classification_report,accuracy_score,confusion_matrix\n",
    "from sklearn.linear_model import LogisticRegression\n",
    "from sklearn.neural_network import MLPClassifier"
   ]
  },
  {
   "cell_type": "markdown",
   "metadata": {},
   "source": [
    "## Loading data"
   ]
  },
  {
   "cell_type": "code",
   "execution_count": 275,
   "metadata": {},
   "outputs": [],
   "source": [
    "train_path = \"input/train.csv\"\n",
    "test_path = \"input/test.csv\""
   ]
  },
  {
   "cell_type": "code",
   "execution_count": 276,
   "metadata": {},
   "outputs": [],
   "source": [
    "df_train = pd.read_csv(train_path)\n",
    "df_test = pd.read_csv(test_path)"
   ]
  },
  {
   "cell_type": "code",
   "execution_count": 277,
   "metadata": {},
   "outputs": [],
   "source": [
    "df_train = df_train[['text','target']]\n",
    "df_test = df_test[['text', 'target']]"
   ]
  },
  {
   "cell_type": "markdown",
   "metadata": {},
   "source": [
    "## Cleaning text"
   ]
  },
  {
   "cell_type": "code",
   "execution_count": 147,
   "metadata": {},
   "outputs": [],
   "source": [
    "# Removing URLs\n",
    "def urls(sent):\n",
    "    return re.findall('http[s]?://(?:[a-zA-Z]|[0-9]|[$-_@.&+]|[!*\\(\\),]|(?:%[0-9a-fA-F][0-9a-fA-F]))+',sent)\n",
    "def url_counts(sent):\n",
    "    return len(re.findall('http[s]?://(?:[a-zA-Z]|[0-9]|[$-_@.&+]|[!*\\(\\),]|(?:%[0-9a-fA-F][0-9a-fA-F]))+',sent))\n",
    "def remove_urls(sent):\n",
    "    return re.sub('http[s]?://(?:[a-zA-Z]|[0-9]|[$-_@.&+]|[!*\\(\\),]|(?:%[0-9a-fA-F][0-9a-fA-F]))+','',sent)"
   ]
  },
  {
   "cell_type": "code",
   "execution_count": 148,
   "metadata": {},
   "outputs": [],
   "source": [
    "# Remove emojis and convert emoji to text.\n",
    "\n",
    "def emoji_extraction(sent):\n",
    "    e_sent = emoji.demojize(sent)\n",
    "    \n",
    "    return re.findall(':(.*?):',e_sent)\n",
    "def emoji_count(sent):\n",
    "    e_sent = emoji.demojize(sent)\n",
    "    return len(re.findall(':(.*?):',e_sent))\n",
    "\n",
    "def emoji_to_text(sent):\n",
    "    e_sent = emoji.demojize(sent)\n",
    "    emo = re.findall(':(.*?):',e_sent)\n",
    "    for e in emo:\n",
    "        e_sent = e_sent.replace(':{}:'.format(e),'{}'.format(e))\n",
    "    return e_sent"
   ]
  },
  {
   "cell_type": "code",
   "execution_count": 149,
   "metadata": {},
   "outputs": [],
   "source": [
    "# Remove hashtags in tweets\n",
    "def find_hashtags(text):\n",
    "    gethashtags = re.findall('#\\w*[a-zA-Z]\\w*',text)\n",
    "    return gethashtags\n",
    "\n",
    "def count_hashtags(text):\n",
    "    gethashtags = re.findall('#\\w*[a-zA-Z]\\w*',text)\n",
    "    return len(gethashtags)\n",
    "\n",
    "def remove_hashtags(text):\n",
    "    return re.sub('#\\w*[a-zA-Z]\\w*','',text)"
   ]
  },
  {
   "cell_type": "code",
   "execution_count": 150,
   "metadata": {
    "code_folding": []
   },
   "outputs": [],
   "source": [
    "# Remove @Username in tweets\n",
    "def extract_username(sent):\n",
    "    usernames = re.findall('@[A-Za-z0-9_$]*',sent)\n",
    "    return usernames\n",
    "\n",
    "def count_username(sent):\n",
    "    return len(re.findall('@[A-Za-z0-9_$]*',sent))\n",
    "\n",
    "def replace_username(sent):\n",
    "    usernames = extract_username(sent)\n",
    "    for un in usernames:\n",
    "        un = re.sub('@','',un)\n",
    "        sent = sent.replace('@{}'.format(un),'{}'.format(un))\n",
    "    return sent\n",
    "def remove_username(sent):\n",
    "    usernames = extract_username(sent)\n",
    "    for un in usernames:\n",
    "        un = re.sub('@','',un)\n",
    "        sent = sent.replace('@{}'.format(un),' ')\n",
    "    return sent"
   ]
  },
  {
   "cell_type": "code",
   "execution_count": 151,
   "metadata": {
    "code_folding": []
   },
   "outputs": [],
   "source": [
    "# Removing phone numbers\n",
    "def find_number(text):\n",
    "    getnumber = re.findall('#[0-9]+',text)\n",
    "    return getnumber\n",
    "\n",
    "def count_number(text):\n",
    "    getnumber = re.findall('#[0-9]+',text)\n",
    "    return len(getnumber)\n",
    "\n",
    "def remove_number(text):\n",
    "    return re.sub('#[0-9]+','',text)"
   ]
  },
  {
   "cell_type": "code",
   "execution_count": 152,
   "metadata": {},
   "outputs": [],
   "source": [
    "# Removing punctuations\n",
    "def find_punctuations(text):\n",
    "    getpunctuation = re.findall('[.?\"\\'`\\,\\-\\!:;\\(\\)\\[\\]\\\\/“”]+?',text)\n",
    "    return getpunctuation\n",
    "\n",
    "def count_punctuations(text):\n",
    "    getpunctuation = re.findall('[.?\"\\'`\\,\\-\\!:;\\(\\)\\[\\]\\\\/“”]+?',text)\n",
    "    return len(getpunctuation)\n",
    "\n",
    "def remove_punctuations(text):\n",
    "    return re.sub('[.?\"\\'`\\,\\-\\!:;\\(\\)\\[\\]\\\\/“”]+?','',text)"
   ]
  },
  {
   "cell_type": "code",
   "execution_count": 153,
   "metadata": {},
   "outputs": [],
   "source": [
    "# Removing other symbols\n",
    "def remove_symbols(text):\n",
    "    return re.sub('[~:*ÛÓ_å¨È$#&%^ª|+-]+?','',text)"
   ]
  },
  {
   "cell_type": "code",
   "execution_count": 154,
   "metadata": {},
   "outputs": [],
   "source": [
    "# Correct spellings\n",
    "from spellchecker import SpellChecker\n",
    "from textblob import TextBlob\n",
    "\n",
    "def find_typo(sent):\n",
    "    spell = SpellChecker()\n",
    "    words = sent.split()\n",
    "    words = spell.unknown(words)\n",
    "    print(words)\n",
    "    return words\n",
    "\n",
    "def count_typo(sent):\n",
    "    return find_typo(sent), len(find_typo(sent))\n",
    "\n",
    "def correct_typo(sent):\n",
    "    spell = SpellChecker()\n",
    "    words = sent.split()\n",
    "    words = spell.unknown(words)\n",
    "    find = []\n",
    "    for word in words:\n",
    "        find.append(spell.correction(word))\n",
    "    return find    \n",
    "\n",
    "def correct_byspellchecker(sent):\n",
    "    ic, c = list(find_typo(sent)), list(correct_typo(sent))\n",
    "    for i in range(len(ic)):\n",
    "        sent = sent.replace(ic[i],c[i])\n",
    "    return sent\n",
    "\n",
    "def correct_bytextblob(sent):\n",
    "    return str(TextBlob(sent).correct())"
   ]
  },
  {
   "cell_type": "code",
   "execution_count": 155,
   "metadata": {},
   "outputs": [],
   "source": [
    "## Change sentenence to lower\n",
    "def make_lower(sent):\n",
    "    sent = sent.lower()\n",
    "    return sent"
   ]
  },
  {
   "cell_type": "code",
   "execution_count": 156,
   "metadata": {},
   "outputs": [],
   "source": [
    "## Reading dictionary \n",
    "\n",
    "\n",
    "from collections import Counter\n",
    "\n",
    "def words(text): return re.findall(r'\\w+', text.lower())\n",
    "\n",
    "WORDS = Counter(words(open('big.txt').read()))"
   ]
  },
  {
   "cell_type": "code",
   "execution_count": 157,
   "metadata": {},
   "outputs": [],
   "source": [
    "## Replacing unknown with known\n",
    "def replace_unknown_with_known(sent):\n",
    "    to_replace = {}\n",
    "    words = sent.split()\n",
    "    for word in words:\n",
    "        if word not in WORDS:\n",
    "            valid = True\n",
    "            split_words = wordninja.split(word)\n",
    "            for w in split_words:\n",
    "                if w not in WORDS:\n",
    "                    valid = False\n",
    "            if valid:\n",
    "                new_word = ' '.join(split_words)\n",
    "                to_replace[word] = new_word\n",
    "    for word in to_replace:\n",
    "        sent = sent.replace(word, to_replace[word])\n",
    "    return sent"
   ]
  },
  {
   "cell_type": "code",
   "execution_count": 158,
   "metadata": {},
   "outputs": [],
   "source": [
    "def preprocessing(df):\n",
    "    df['Char_length']       = df['text'].apply(len)\n",
    "    df['text']              = df.text.apply(remove_urls)\n",
    "    df['text']              = df['text'].apply(emoji_to_text)\n",
    "    df['text']              = df.text.apply(remove_hashtags)\n",
    "    df['text']              = df.text.apply(remove_username)\n",
    "    df['text']              = df.text.apply(remove_number)\n",
    "    df['text']              = df.text.apply(remove_punctuations)\n",
    "    df['text']              = df.text.apply(remove_symbols)\n",
    "    df['text']              = df.text.apply(make_lower)\n",
    "    df['text']              = df.text.apply(replace_unknown_with_known)\n",
    "    return df"
   ]
  },
  {
   "cell_type": "markdown",
   "metadata": {},
   "source": [
    "## Splitting into train, valid and test"
   ]
  },
  {
   "cell_type": "code",
   "execution_count": 278,
   "metadata": {},
   "outputs": [],
   "source": [
    "test = df_test.copy()"
   ]
  },
  {
   "cell_type": "code",
   "execution_count": 279,
   "metadata": {},
   "outputs": [
    {
     "name": "stdout",
     "output_type": "stream",
     "text": [
      "train shape :  (5329, 2)\n",
      "valid shape :  (2284, 2)\n"
     ]
    }
   ],
   "source": [
    "from sklearn.model_selection import train_test_split\n",
    "\n",
    "train,valid = train_test_split(df_train,test_size = 0.3,random_state=0,stratify = df_train.target.values)\n",
    "\n",
    "print(\"train shape : \", train.shape)\n",
    "print(\"valid shape : \", valid.shape)"
   ]
  },
  {
   "cell_type": "markdown",
   "metadata": {},
   "source": [
    "## Preprocesing for ML"
   ]
  },
  {
   "cell_type": "code",
   "execution_count": 280,
   "metadata": {},
   "outputs": [],
   "source": [
    "ml_df_train = train.copy()\n",
    "ml_df_valid = valid.copy()\n",
    "ml_df_test = test.copy()"
   ]
  },
  {
   "cell_type": "code",
   "execution_count": 281,
   "metadata": {
    "scrolled": true
   },
   "outputs": [
    {
     "name": "stdout",
     "output_type": "stream",
     "text": [
      "CPU times: user 6.97 s, sys: 62.4 ms, total: 7.03 s\n",
      "Wall time: 8.06 s\n"
     ]
    }
   ],
   "source": [
    "%%time\n",
    "\n",
    "ml_df_train = preprocessing(ml_df_train)\n",
    "ml_df_valid = preprocessing(ml_df_valid)\n",
    "\n",
    "ml_df_test = preprocessing(ml_df_test)"
   ]
  },
  {
   "cell_type": "markdown",
   "metadata": {},
   "source": [
    "## NB Implementation"
   ]
  },
  {
   "cell_type": "code",
   "execution_count": 282,
   "metadata": {},
   "outputs": [],
   "source": [
    "from nltk.corpus import stopwords\n",
    "stop = list(stopwords.words('english'))"
   ]
  },
  {
   "cell_type": "code",
   "execution_count": 283,
   "metadata": {},
   "outputs": [],
   "source": [
    "from sklearn.feature_extraction.text import CountVectorizer\n",
    "\n",
    "vectorizer = CountVectorizer(decode_error = 'replace',stop_words = stop)"
   ]
  },
  {
   "cell_type": "code",
   "execution_count": 284,
   "metadata": {},
   "outputs": [
    {
     "name": "stdout",
     "output_type": "stream",
     "text": [
      "X_train.shape :  (5329, 10543)\n",
      "X_valid.shape :  (2284, 10543)\n",
      "X_test.shape :  (3263, 10543)\n",
      "y_train.shape :  (5329,)\n",
      "y_valid.shape :  (2284,)\n",
      "y_test.shape :  (3263,)\n"
     ]
    }
   ],
   "source": [
    "X_train = vectorizer.fit_transform(ml_df_train.text.values)\n",
    "X_valid = vectorizer.transform(ml_df_valid.text.values)\n",
    "X_test = vectorizer.transform(ml_df_test.text.values)\n",
    "\n",
    "y_train = ml_df_train.target.values\n",
    "y_valid = ml_df_valid.target.values\n",
    "y_test = ml_df_test.target.values\n",
    "\n",
    "\n",
    "print(\"X_train.shape : \", X_train.shape)\n",
    "print(\"X_valid.shape : \", X_valid.shape)\n",
    "print(\"X_test.shape : \", X_test.shape)\n",
    "print(\"y_train.shape : \", y_train.shape)\n",
    "print(\"y_valid.shape : \", y_valid.shape)\n",
    "print(\"y_test.shape : \", y_test.shape)"
   ]
  },
  {
   "cell_type": "code",
   "execution_count": 285,
   "metadata": {},
   "outputs": [
    {
     "data": {
      "text/plain": [
       "MultinomialNB()"
      ]
     },
     "execution_count": 285,
     "metadata": {},
     "output_type": "execute_result"
    }
   ],
   "source": [
    "from sklearn.naive_bayes import MultinomialNB\n",
    "\n",
    "baseline_clf = MultinomialNB()\n",
    "baseline_clf.fit(X_train,y_train)"
   ]
  },
  {
   "cell_type": "code",
   "execution_count": 286,
   "metadata": {},
   "outputs": [
    {
     "name": "stdout",
     "output_type": "stream",
     "text": [
      "training accuracy Score    :  0.9044848939763558\n",
      "Validdation accuracy Score :  0.7985989492119089\n"
     ]
    }
   ],
   "source": [
    "baseline_prediction = baseline_clf.predict(X_valid)\n",
    "baseline_accuracy = accuracy_score(y_valid,baseline_prediction)\n",
    "print(\"training accuracy Score    : \",baseline_clf.score(X_train,y_train))\n",
    "print(\"Validdation accuracy Score : \",baseline_accuracy )"
   ]
  },
  {
   "cell_type": "code",
   "execution_count": 287,
   "metadata": {
    "scrolled": true
   },
   "outputs": [
    {
     "data": {
      "image/png": "[encoded data removed]",
      "text/plain": [
       "<Figure size 288x288 with 1 Axes>"
      ]
     },
     "metadata": {},
     "output_type": "display_data"
    }
   ],
   "source": [
    "plt.figure(figsize = (4,4))\n",
    "class_label = [0,1]\n",
    "fig = sns.heatmap(confusion_matrix(y_valid,baseline_prediction),cmap= \"coolwarm\",annot=True,vmin=0,cbar = False,\n",
    "            center = True,xticklabels=class_label,yticklabels=class_label, fmt='d' )\n",
    "fig.set_xlabel(\"Prediction\",fontsize=30)\n",
    "fig.xaxis.set_label_position('top')\n",
    "fig.set_ylabel(\"True\",fontsize=30)\n",
    "fig.xaxis.tick_top()"
   ]
  },
  {
   "cell_type": "markdown",
   "metadata": {},
   "source": [
    "## Logistic regression"
   ]
  },
  {
   "cell_type": "code",
   "execution_count": 326,
   "metadata": {},
   "outputs": [
    {
     "data": {
      "text/plain": [
       "LogisticRegression()"
      ]
     },
     "execution_count": 326,
     "metadata": {},
     "output_type": "execute_result"
    }
   ],
   "source": [
    "log_reg_model = LogisticRegression()\n",
    "log_reg_model.fit(X_train, y_train)"
   ]
  },
  {
   "cell_type": "code",
   "execution_count": 328,
   "metadata": {
    "_cell_guid": "9d970688-c186-4664-b8b0-179966422d11",
    "_uuid": "104e4948-90b2-4f95-b1b8-7d9c3753cc65",
    "execution": {
     "iopub.execute_input": "2020-08-30T09:15:29.929401Z",
     "iopub.status.busy": "2020-08-30T09:15:29.928476Z",
     "iopub.status.idle": "2020-08-30T09:15:29.937398Z",
     "shell.execute_reply": "2020-08-30T09:15:29.936638Z"
    },
    "papermill": {
     "duration": 0.091738,
     "end_time": "2020-08-30T09:15:29.937536",
     "exception": false,
     "start_time": "2020-08-30T09:15:29.845798",
     "status": "completed"
    },
    "tags": []
   },
   "outputs": [
    {
     "name": "stdout",
     "output_type": "stream",
     "text": [
      "training accuracy Score    :  0.9525239256896229\n",
      "Validdation accuracy Score :  0.7937828371278459\n"
     ]
    }
   ],
   "source": [
    "linear_model_reg_prediction = log_reg_model.predict(X_valid)\n",
    "linear_model_reg_accuracy = accuracy_score(y_valid,linear_model_reg_prediction)\n",
    "print(\"training accuracy Score    : \",log_reg_model.score(X_train,y_train))\n",
    "print(\"Validdation accuracy Score : \",linear_model_reg_accuracy )"
   ]
  },
  {
   "cell_type": "code",
   "execution_count": 329,
   "metadata": {
    "_cell_guid": "14d72e40-9df7-44f9-a015-a1867203c64b",
    "_uuid": "96e1f3e2-5c26-425b-8d7e-b0dedcbbe27a",
    "execution": {
     "iopub.execute_input": "2020-08-30T09:15:30.261668Z",
     "iopub.status.busy": "2020-08-30T09:15:30.260540Z",
     "iopub.status.idle": "2020-08-30T09:15:30.370388Z",
     "shell.execute_reply": "2020-08-30T09:15:30.369609Z"
    },
    "papermill": {
     "duration": 0.194756,
     "end_time": "2020-08-30T09:15:30.370518",
     "exception": false,
     "start_time": "2020-08-30T09:15:30.175762",
     "status": "completed"
    },
    "tags": []
   },
   "outputs": [
    {
     "data": {
      "image/png": "[encoded data removed]",
      "text/plain": [
       "<Figure size 288x288 with 1 Axes>"
      ]
     },
     "metadata": {},
     "output_type": "display_data"
    }
   ],
   "source": [
    "plt.figure(figsize = (4,4))\n",
    "class_label = [0,1]\n",
    "fig = sns.heatmap(confusion_matrix(y_valid,linear_model_reg_prediction),cmap= \"coolwarm\",annot=True,vmin=0,cbar = False,\n",
    "            center = True,xticklabels=class_label,yticklabels=class_label, fmt='d' )\n",
    "fig.set_xlabel(\"Prediction\",fontsize=30)\n",
    "fig.xaxis.set_label_position('top')\n",
    "fig.set_ylabel(\"True\",fontsize=30)\n",
    "fig.xaxis.tick_top()"
   ]
  },
  {
   "cell_type": "markdown",
   "metadata": {},
   "source": [
    "## MLP Classifier"
   ]
  },
  {
   "cell_type": "code",
   "execution_count": 340,
   "metadata": {},
   "outputs": [
    {
     "data": {
      "text/plain": [
       "MLPClassifier()"
      ]
     },
     "execution_count": 340,
     "metadata": {},
     "output_type": "execute_result"
    }
   ],
   "source": [
    "mlp_classifier = MLPClassifier()\n",
    "mlp_classifier.fit(X_train, y_train)"
   ]
  },
  {
   "cell_type": "code",
   "execution_count": 341,
   "metadata": {
    "_cell_guid": "9d970688-c186-4664-b8b0-179966422d11",
    "_uuid": "104e4948-90b2-4f95-b1b8-7d9c3753cc65",
    "execution": {
     "iopub.execute_input": "2020-08-30T09:15:29.929401Z",
     "iopub.status.busy": "2020-08-30T09:15:29.928476Z",
     "iopub.status.idle": "2020-08-30T09:15:29.937398Z",
     "shell.execute_reply": "2020-08-30T09:15:29.936638Z"
    },
    "papermill": {
     "duration": 0.091738,
     "end_time": "2020-08-30T09:15:29.937536",
     "exception": false,
     "start_time": "2020-08-30T09:15:29.845798",
     "status": "completed"
    },
    "tags": []
   },
   "outputs": [
    {
     "name": "stdout",
     "output_type": "stream",
     "text": [
      "training accuracy Score    :  0.9863013698630136\n",
      "Validdation accuracy Score :  0.7324868651488616\n"
     ]
    }
   ],
   "source": [
    "mlp_prediction = mlp_classifier.predict(X_valid)\n",
    "mlp_accuracy = accuracy_score(y_valid,mlp_prediction)\n",
    "print(\"training accuracy Score    : \",mlp_classifier.score(X_train,y_train))\n",
    "print(\"Validdation accuracy Score : \",mlp_accuracy )"
   ]
  },
  {
   "cell_type": "code",
   "execution_count": 342,
   "metadata": {
    "_cell_guid": "14d72e40-9df7-44f9-a015-a1867203c64b",
    "_uuid": "96e1f3e2-5c26-425b-8d7e-b0dedcbbe27a",
    "execution": {
     "iopub.execute_input": "2020-08-30T09:15:30.261668Z",
     "iopub.status.busy": "2020-08-30T09:15:30.260540Z",
     "iopub.status.idle": "2020-08-30T09:15:30.370388Z",
     "shell.execute_reply": "2020-08-30T09:15:30.369609Z"
    },
    "papermill": {
     "duration": 0.194756,
     "end_time": "2020-08-30T09:15:30.370518",
     "exception": false,
     "start_time": "2020-08-30T09:15:30.175762",
     "status": "completed"
    },
    "tags": []
   },
   "outputs": [
    {
     "data": {
      "image/png": "[encoded data removed]",
      "text/plain": [
       "<Figure size 288x288 with 1 Axes>"
      ]
     },
     "metadata": {},
     "output_type": "display_data"
    }
   ],
   "source": [
    "plt.figure(figsize = (4,4))\n",
    "class_label = [0,1]\n",
    "fig = sns.heatmap(confusion_matrix(y_valid,linear_model_reg_prediction),cmap= \"coolwarm\",annot=True,vmin=0,cbar = False,\n",
    "            center = True,xticklabels=class_label,yticklabels=class_label, fmt='d' )\n",
    "fig.set_xlabel(\"Prediction\",fontsize=30)\n",
    "fig.xaxis.set_label_position('top')\n",
    "fig.set_ylabel(\"True\",fontsize=30)\n",
    "fig.xaxis.tick_top()"
   ]
  },
  {
   "cell_type": "markdown",
   "metadata": {
    "_cell_guid": "833b1e6c-90c2-4c1e-b140-b8a479a8d0ab",
    "_uuid": "630776b4-171f-4a1a-863f-72beca46bdc1",
    "papermill": {
     "duration": 0.072386,
     "end_time": "2020-08-30T09:15:29.579602",
     "exception": false,
     "start_time": "2020-08-30T09:15:29.507216",
     "status": "completed"
    },
    "tags": []
   },
   "source": [
    "# Linear Model (SGD Classifier)"
   ]
  },
  {
   "cell_type": "code",
   "execution_count": 288,
   "metadata": {
    "_cell_guid": "967a4f98-4bf1-427c-bdc0-126f4b2e844a",
    "_uuid": "8aa49873-a740-4bd4-8317-ea1c7282ec27",
    "execution": {
     "iopub.execute_input": "2020-08-30T09:15:29.735253Z",
     "iopub.status.busy": "2020-08-30T09:15:29.734027Z",
     "iopub.status.idle": "2020-08-30T09:15:29.771903Z",
     "shell.execute_reply": "2020-08-30T09:15:29.771056Z"
    },
    "papermill": {
     "duration": 0.117787,
     "end_time": "2020-08-30T09:15:29.772043",
     "exception": false,
     "start_time": "2020-08-30T09:15:29.654256",
     "status": "completed"
    },
    "tags": []
   },
   "outputs": [
    {
     "data": {
      "text/plain": [
       "SGDClassifier(random_state=0)"
      ]
     },
     "execution_count": 288,
     "metadata": {},
     "output_type": "execute_result"
    }
   ],
   "source": [
    "from sklearn.linear_model import SGDClassifier\n",
    "linear_model_sgd = SGDClassifier(loss = 'hinge', penalty = 'l2', random_state=0)\n",
    "linear_model_sgd.fit(X_train, y_train)"
   ]
  },
  {
   "cell_type": "code",
   "execution_count": 289,
   "metadata": {
    "_cell_guid": "9d970688-c186-4664-b8b0-179966422d11",
    "_uuid": "104e4948-90b2-4f95-b1b8-7d9c3753cc65",
    "execution": {
     "iopub.execute_input": "2020-08-30T09:15:29.929401Z",
     "iopub.status.busy": "2020-08-30T09:15:29.928476Z",
     "iopub.status.idle": "2020-08-30T09:15:29.937398Z",
     "shell.execute_reply": "2020-08-30T09:15:29.936638Z"
    },
    "papermill": {
     "duration": 0.091738,
     "end_time": "2020-08-30T09:15:29.937536",
     "exception": false,
     "start_time": "2020-08-30T09:15:29.845798",
     "status": "completed"
    },
    "tags": []
   },
   "outputs": [
    {
     "name": "stdout",
     "output_type": "stream",
     "text": [
      "training accuracy Score    :  0.9793582285607055\n",
      "Validdation accuracy Score :  0.7697022767075307\n"
     ]
    }
   ],
   "source": [
    "linear_model_sgd_prediction = linear_model_sgd.predict(X_valid)\n",
    "linear_model_sgd_accuracy = accuracy_score(y_valid,linear_model_sgd_prediction)\n",
    "print(\"training accuracy Score    : \",linear_model_sgd.score(X_train,y_train))\n",
    "print(\"Validdation accuracy Score : \",linear_model_sgd_accuracy )"
   ]
  },
  {
   "cell_type": "code",
   "execution_count": 290,
   "metadata": {
    "_cell_guid": "823aa5fa-c025-404d-b035-eaca245bd7a1",
    "_kg_hide-input": true,
    "_uuid": "f61dedca-442d-493f-a68d-8cc506f369a4",
    "execution": {
     "iopub.execute_input": "2020-08-30T09:15:30.093394Z",
     "iopub.status.busy": "2020-08-30T09:15:30.092492Z",
     "iopub.status.idle": "2020-08-30T09:15:30.097381Z",
     "shell.execute_reply": "2020-08-30T09:15:30.096766Z"
    },
    "papermill": {
     "duration": 0.084411,
     "end_time": "2020-08-30T09:15:30.097523",
     "exception": false,
     "start_time": "2020-08-30T09:15:30.013112",
     "status": "completed"
    },
    "tags": []
   },
   "outputs": [
    {
     "data": {
      "text/markdown": [
       "### Our sgd model validation accuracy is 0.77% (heavily overfitting)"
      ],
      "text/plain": [
       "<IPython.core.display.Markdown object>"
      ]
     },
     "execution_count": 290,
     "metadata": {},
     "output_type": "execute_result"
    }
   ],
   "source": [
    "md(\"### Our sgd model validation accuracy is {}% (heavily overfitting)\".format(round(linear_model_sgd_accuracy,2)))"
   ]
  },
  {
   "cell_type": "code",
   "execution_count": 291,
   "metadata": {
    "_cell_guid": "14d72e40-9df7-44f9-a015-a1867203c64b",
    "_uuid": "96e1f3e2-5c26-425b-8d7e-b0dedcbbe27a",
    "execution": {
     "iopub.execute_input": "2020-08-30T09:15:30.261668Z",
     "iopub.status.busy": "2020-08-30T09:15:30.260540Z",
     "iopub.status.idle": "2020-08-30T09:15:30.370388Z",
     "shell.execute_reply": "2020-08-30T09:15:30.369609Z"
    },
    "papermill": {
     "duration": 0.194756,
     "end_time": "2020-08-30T09:15:30.370518",
     "exception": false,
     "start_time": "2020-08-30T09:15:30.175762",
     "status": "completed"
    },
    "tags": []
   },
   "outputs": [
    {
     "data": {
      "image/png": "[encoded data removed]",
      "text/plain": [
       "<Figure size 288x288 with 1 Axes>"
      ]
     },
     "metadata": {},
     "output_type": "display_data"
    }
   ],
   "source": [
    "plt.figure(figsize = (4,4))\n",
    "class_label = [0,1]\n",
    "fig = sns.heatmap(confusion_matrix(y_valid,linear_model_sgd_prediction),cmap= \"coolwarm\",annot=True,vmin=0,cbar = False,\n",
    "            center = True,xticklabels=class_label,yticklabels=class_label, fmt='d' )\n",
    "fig.set_xlabel(\"Prediction\",fontsize=30)\n",
    "fig.xaxis.set_label_position('top')\n",
    "fig.set_ylabel(\"True\",fontsize=30)\n",
    "fig.xaxis.tick_top()"
   ]
  },
  {
   "cell_type": "markdown",
   "metadata": {
    "_cell_guid": "166a1c45-24da-4ae8-a82c-b4bf9ed7e456",
    "_uuid": "730416e1-75b1-4b46-a9cf-a638d1b7a1e8",
    "papermill": {
     "duration": 0.072044,
     "end_time": "2020-08-30T09:15:30.517400",
     "exception": false,
     "start_time": "2020-08-30T09:15:30.445356",
     "status": "completed"
    },
    "tags": []
   },
   "source": [
    "### Parameter Tuning of SGDClassifier"
   ]
  },
  {
   "cell_type": "code",
   "execution_count": 292,
   "metadata": {
    "_cell_guid": "5ec87ff4-f280-49ea-9bbd-98b14afaf38d",
    "_uuid": "03dae22e-9063-4c7a-928e-23daebdf1d51",
    "execution": {
     "iopub.execute_input": "2020-08-30T09:15:30.677232Z",
     "iopub.status.busy": "2020-08-30T09:15:30.675298Z",
     "iopub.status.idle": "2020-08-30T09:15:37.095643Z",
     "shell.execute_reply": "2020-08-30T09:15:37.096697Z"
    },
    "papermill": {
     "duration": 6.504561,
     "end_time": "2020-08-30T09:15:37.096888",
     "exception": false,
     "start_time": "2020-08-30T09:15:30.592327",
     "status": "completed"
    },
    "scrolled": true,
    "tags": []
   },
   "outputs": [
    {
     "name": "stderr",
     "output_type": "stream",
     "text": [
      "/Library/Frameworks/Python.framework/Versions/3.6/lib/python3.6/site-packages/sklearn/linear_model/_stochastic_gradient.py:577: ConvergenceWarning: Maximum number of iteration reached before convergence. Consider increasing max_iter to improve the fit.\n",
      "  ConvergenceWarning)\n",
      "/Library/Frameworks/Python.framework/Versions/3.6/lib/python3.6/site-packages/sklearn/linear_model/_stochastic_gradient.py:577: ConvergenceWarning: Maximum number of iteration reached before convergence. Consider increasing max_iter to improve the fit.\n",
      "  ConvergenceWarning)\n"
     ]
    },
    {
     "name": "stdout",
     "output_type": "stream",
     "text": [
      "best parameter : \n",
      "      alpha: 0.0001\n",
      "      eta0: 0.1\n",
      "      learning_rate: 'invscaling'\n",
      "      max_iter: 100\n"
     ]
    }
   ],
   "source": [
    "from sklearn.model_selection import GridSearchCV\n",
    "\n",
    "params = {\n",
    "     'max_iter': (100,500,1000),\n",
    "     'alpha': (1e-1,1e-2,1e-4),\n",
    "      'learning_rate': ('optimal','invscaling'),\n",
    "    'eta0' : (0.1,0.05),\n",
    "                     \n",
    "}\n",
    "\n",
    "gridcv = GridSearchCV(linear_model_sgd,param_grid = params, cv = 5)\n",
    "\n",
    "gridcv.fit(X_train,y_train)\n",
    "print(\"best parameter : \")\n",
    "for param_name in sorted(params.keys()):\n",
    "    print(\"      %s: %r\" % (param_name, gridcv.best_params_[param_name]))"
   ]
  },
  {
   "cell_type": "code",
   "execution_count": 293,
   "metadata": {
    "_cell_guid": "a9b2b878-ad48-4fdd-bc98-eff4b4643b92",
    "_uuid": "ffbcffb3-6662-4d1b-8d98-e5e5de766ee5",
    "execution": {
     "iopub.execute_input": "2020-08-30T09:15:37.253982Z",
     "iopub.status.busy": "2020-08-30T09:15:37.252634Z",
     "iopub.status.idle": "2020-08-30T09:15:37.260433Z",
     "shell.execute_reply": "2020-08-30T09:15:37.261030Z"
    },
    "papermill": {
     "duration": 0.090173,
     "end_time": "2020-08-30T09:15:37.261203",
     "exception": false,
     "start_time": "2020-08-30T09:15:37.171030",
     "status": "completed"
    },
    "tags": []
   },
   "outputs": [
    {
     "name": "stdout",
     "output_type": "stream",
     "text": [
      "Tune training accuracy Score    :  0.8438731469318822\n",
      "Tune Validation accuracy Score :  0.792031523642732\n"
     ]
    }
   ],
   "source": [
    "linear_model_sgd_prediction = gridcv.predict(X_valid)\n",
    "linear_model_sgd_accuracy = accuracy_score(y_valid,linear_model_sgd_prediction)\n",
    "print(\"Tune training accuracy Score    : \",gridcv.score(X_train,y_train))\n",
    "print(\"Tune Validation accuracy Score : \",linear_model_sgd_accuracy )"
   ]
  },
  {
   "cell_type": "code",
   "execution_count": 294,
   "metadata": {
    "_cell_guid": "8f0fd711-1f37-405a-ad3b-76dadaf2202b",
    "_uuid": "b959cb0c-f048-4c26-83c4-d46f4b31bbd7",
    "execution": {
     "iopub.execute_input": "2020-08-30T09:15:37.417824Z",
     "iopub.status.busy": "2020-08-30T09:15:37.416963Z",
     "iopub.status.idle": "2020-08-30T09:15:37.525613Z",
     "shell.execute_reply": "2020-08-30T09:15:37.524968Z"
    },
    "papermill": {
     "duration": 0.191023,
     "end_time": "2020-08-30T09:15:37.525752",
     "exception": false,
     "start_time": "2020-08-30T09:15:37.334729",
     "status": "completed"
    },
    "tags": []
   },
   "outputs": [
    {
     "data": {
      "image/png": "[encoded data removed]",
      "text/plain": [
       "<Figure size 288x288 with 1 Axes>"
      ]
     },
     "metadata": {},
     "output_type": "display_data"
    }
   ],
   "source": [
    "plt.figure(figsize = (4,4))\n",
    "class_label = [0,1]\n",
    "fig = sns.heatmap(confusion_matrix(y_valid,linear_model_sgd_prediction),cmap= \"coolwarm\",annot=True,vmin=0,cbar = False,\n",
    "            center = True,xticklabels=class_label,yticklabels=class_label, fmt='d' )\n",
    "fig.set_xlabel(\"Prediction\",fontsize=30)\n",
    "fig.xaxis.set_label_position('top')\n",
    "fig.set_ylabel(\"True\",fontsize=30)\n",
    "fig.xaxis.tick_top()"
   ]
  },
  {
   "cell_type": "markdown",
   "metadata": {
    "_cell_guid": "23f216a0-d961-43ec-ba5d-940316c3fc02",
    "_uuid": "b528eb10-a9ad-40bf-8cb4-eb413f761681",
    "papermill": {
     "duration": 0.073079,
     "end_time": "2020-08-30T09:15:37.672830",
     "exception": false,
     "start_time": "2020-08-30T09:15:37.599751",
     "status": "completed"
    },
    "tags": []
   },
   "source": [
    "### Classification Report of tune sgd model"
   ]
  },
  {
   "cell_type": "code",
   "execution_count": 295,
   "metadata": {
    "_cell_guid": "8cf32ccf-325d-49de-9329-524b32e500cc",
    "_uuid": "4909bc73-7c2b-450a-a951-0800c7fe4775",
    "execution": {
     "iopub.execute_input": "2020-08-30T09:15:37.826051Z",
     "iopub.status.busy": "2020-08-30T09:15:37.825217Z",
     "iopub.status.idle": "2020-08-30T09:15:37.837509Z",
     "shell.execute_reply": "2020-08-30T09:15:37.836535Z"
    },
    "papermill": {
     "duration": 0.091233,
     "end_time": "2020-08-30T09:15:37.837732",
     "exception": false,
     "start_time": "2020-08-30T09:15:37.746499",
     "status": "completed"
    },
    "scrolled": true,
    "tags": []
   },
   "outputs": [
    {
     "name": "stdout",
     "output_type": "stream",
     "text": [
      "              precision    recall  f1-score   support\n",
      "\n",
      "           0       0.78      0.89      0.83      1303\n",
      "           1       0.82      0.66      0.73       981\n",
      "\n",
      "    accuracy                           0.79      2284\n",
      "   macro avg       0.80      0.78      0.78      2284\n",
      "weighted avg       0.80      0.79      0.79      2284\n",
      "\n"
     ]
    }
   ],
   "source": [
    "print(classification_report(y_valid,linear_model_sgd_prediction))"
   ]
  },
  {
   "cell_type": "code",
   "execution_count": 296,
   "metadata": {
    "_cell_guid": "f2447946-b806-45af-8cdc-f1d5479a0a5b",
    "_kg_hide-input": true,
    "_uuid": "c6a205ea-9be8-47fb-9374-b6c3b0eaff7d",
    "execution": {
     "iopub.execute_input": "2020-08-30T09:15:37.992896Z",
     "iopub.status.busy": "2020-08-30T09:15:37.991719Z",
     "iopub.status.idle": "2020-08-30T09:15:37.996929Z",
     "shell.execute_reply": "2020-08-30T09:15:37.996025Z"
    },
    "papermill": {
     "duration": 0.085671,
     "end_time": "2020-08-30T09:15:37.997081",
     "exception": false,
     "start_time": "2020-08-30T09:15:37.911410",
     "status": "completed"
    },
    "tags": []
   },
   "outputs": [
    {
     "data": {
      "text/markdown": [
       "### Our tune sgd model validation accuracy is 0.79% (less overfitting)"
      ],
      "text/plain": [
       "<IPython.core.display.Markdown object>"
      ]
     },
     "execution_count": 296,
     "metadata": {},
     "output_type": "execute_result"
    }
   ],
   "source": [
    "md(\"### Our tune sgd model validation accuracy is {}% (less overfitting)\".format(round(linear_model_sgd_accuracy,2)))"
   ]
  },
  {
   "cell_type": "markdown",
   "metadata": {},
   "source": [
    "## LSTM Model"
   ]
  },
  {
   "cell_type": "markdown",
   "metadata": {},
   "source": [
    "### Preprocessing for LSTM Model"
   ]
  },
  {
   "cell_type": "code",
   "execution_count": 297,
   "metadata": {
    "_cell_guid": "79c7e3d0-c299-4dcb-8224-4455121ee9b0",
    "_uuid": "d629ff2d2480ee46fbb7e2d37f6b5fab8052498a"
   },
   "outputs": [],
   "source": [
    "CRAWL_EMBEDDING_PATH = 'crawl-300d-2M.pkl'\n",
    "GLOVE_EMBEDDING_PATH = 'glove.840B.300d.pkl'"
   ]
  },
  {
   "cell_type": "code",
   "execution_count": 298,
   "metadata": {},
   "outputs": [],
   "source": [
    "def get_coefs(word, *arr):\n",
    "    return word, np.asarray(arr, dtype='float32')\n",
    "\n",
    "\n",
    "def load_embeddings(path):\n",
    "    with open(path,'rb') as f:\n",
    "        emb_arr = pickle.load(f)\n",
    "    return emb_arr\n",
    "\n",
    "def build_matrix(word_index, path):\n",
    "    embedding_index = load_embeddings(path)\n",
    "    embedding_matrix = np.zeros((len(word_index) + 1, 300))\n",
    "    unknown_words = []\n",
    "    \n",
    "    for word, i in word_index.items():\n",
    "        try:\n",
    "            embedding_matrix[i] = embedding_index[word]\n",
    "        except KeyError:\n",
    "            unknown_words.append(word)\n",
    "    return embedding_matrix, unknown_words"
   ]
  },
  {
   "cell_type": "code",
   "execution_count": 299,
   "metadata": {},
   "outputs": [],
   "source": [
    "e = load_embeddings(GLOVE_EMBEDDING_PATH)"
   ]
  },
  {
   "cell_type": "code",
   "execution_count": 300,
   "metadata": {},
   "outputs": [],
   "source": [
    "## replace unknown word with known\n",
    "\n",
    "def replace_unknown_with_known_lstm(sent):\n",
    "    to_replace = {}\n",
    "    words = sent.split()\n",
    "    for word in words:\n",
    "        if word not in e:\n",
    "            valid = True\n",
    "            split_words = wordninja.split(word)\n",
    "            for w in split_words:\n",
    "                if w not in e:\n",
    "                    valid = False\n",
    "            if valid:\n",
    "                new_word = ' '.join(split_words)\n",
    "                to_replace[word] = new_word\n",
    "    for word in to_replace:\n",
    "        sent = sent.replace(word, to_replace[word])\n",
    "    return sent"
   ]
  },
  {
   "cell_type": "code",
   "execution_count": 269,
   "metadata": {},
   "outputs": [],
   "source": [
    "def preprocessing_lstm(df):\n",
    "    df['Char_length']       = df['text'].apply(len)\n",
    "    df['text']              = df.text.apply(remove_urls)\n",
    "    df['text']              = df['text'].apply(emoji_to_text)\n",
    "    df['text']              = df.text.apply(remove_hashtags)\n",
    "    df['text']              = df.text.apply(remove_username)\n",
    "    df['text']              = df.text.apply(remove_number)\n",
    "    df['text']              = df.text.apply(remove_punctuations)\n",
    "    df['text']              = df.text.apply(remove_symbols)\n",
    "    df['text']              = df.text.apply(make_lower)\n",
    "    df['text']              = df.text.apply(replace_unknown_with_known_lstm)\n",
    "    return df"
   ]
  },
  {
   "cell_type": "code",
   "execution_count": 301,
   "metadata": {},
   "outputs": [],
   "source": [
    "lstm_train = train.copy()\n",
    "lstm_valid = valid.copy()\n",
    "lstm_test = test.copy()\n"
   ]
  },
  {
   "cell_type": "code",
   "execution_count": 302,
   "metadata": {
    "scrolled": true
   },
   "outputs": [
    {
     "name": "stdout",
     "output_type": "stream",
     "text": [
      "CPU times: user 6.17 s, sys: 73.7 ms, total: 6.24 s\n",
      "Wall time: 6.9 s\n"
     ]
    }
   ],
   "source": [
    "%%time\n",
    "\n",
    "lstm_train = preprocessing_lstm(lstm_train)\n",
    "lstm_valid = preprocessing_lstm(lstm_valid)\n",
    "lstm_test = preprocessing_lstm(lstm_test)"
   ]
  },
  {
   "cell_type": "code",
   "execution_count": 303,
   "metadata": {},
   "outputs": [],
   "source": [
    "TEXT_COLUMN = 'text'\n",
    "TARGET_COLUMN = 'target'\n",
    "CHARS_TO_REMOVE = '!\"#$%&()*+,-./:;<=>?@[\\\\]^_`{|}~\\t\\n“”’\\'∞θ÷α•à−β∅³π‘₹´°£€\\×™√²—'"
   ]
  },
  {
   "cell_type": "code",
   "execution_count": 304,
   "metadata": {},
   "outputs": [],
   "source": [
    "x_train = lstm_train[TEXT_COLUMN].astype(str)\n",
    "y_train = lstm_train[TARGET_COLUMN].values\n",
    "\n",
    "x_valid = lstm_valid[TEXT_COLUMN].astype(str)\n",
    "y_valid = lstm_valid[TARGET_COLUMN].values\n",
    "\n",
    "x_test = lstm_test[TEXT_COLUMN].astype(str)\n",
    "y_test = lstm_test[TARGET_COLUMN].values"
   ]
  },
  {
   "cell_type": "code",
   "execution_count": 310,
   "metadata": {},
   "outputs": [],
   "source": [
    "tokenizer = text.Tokenizer(filters=CHARS_TO_REMOVE, lower=False)\n",
    "tokenizer.fit_on_texts(list(x_train) + list(x_valid) + list(x_test))"
   ]
  },
  {
   "cell_type": "code",
   "execution_count": 311,
   "metadata": {
    "scrolled": true
   },
   "outputs": [
    {
     "name": "stdout",
     "output_type": "stream",
     "text": [
      "n unknown words (crawl):  409\n"
     ]
    }
   ],
   "source": [
    "crawl_matrix, unknown_words_crawl = build_matrix(tokenizer.word_index, CRAWL_EMBEDDING_PATH)\n",
    "print('n unknown words (crawl): ', len(unknown_words_crawl))"
   ]
  },
  {
   "cell_type": "code",
   "execution_count": 312,
   "metadata": {},
   "outputs": [
    {
     "name": "stdout",
     "output_type": "stream",
     "text": [
      "n unknown words (glove):  172\n",
      "CPU times: user 8.22 s, sys: 2.52 s, total: 10.7 s\n",
      "Wall time: 13.8 s\n"
     ]
    }
   ],
   "source": [
    "%%time\n",
    "\n",
    "glove_matrix, unknown_words_glove = build_matrix(tokenizer.word_index, GLOVE_EMBEDDING_PATH)\n",
    "print('n unknown words (glove): ', len(unknown_words_glove))"
   ]
  },
  {
   "cell_type": "code",
   "execution_count": 313,
   "metadata": {},
   "outputs": [
    {
     "data": {
      "text/plain": [
       "(16424, 600)"
      ]
     },
     "execution_count": 313,
     "metadata": {},
     "output_type": "execute_result"
    }
   ],
   "source": [
    "embedding_matrix = np.concatenate([crawl_matrix, glove_matrix], axis=-1)\n",
    "embedding_matrix.shape"
   ]
  },
  {
   "cell_type": "code",
   "execution_count": 314,
   "metadata": {},
   "outputs": [],
   "source": [
    "MAX_LEN = 300\n",
    "LSTM_UNITS = 128\n",
    "DENSE_HIDDEN_UNITS = 4 * LSTM_UNITS"
   ]
  },
  {
   "cell_type": "code",
   "execution_count": 315,
   "metadata": {
    "scrolled": true
   },
   "outputs": [],
   "source": [
    "x_train = tokenizer.texts_to_sequences(x_train)\n",
    "x_train = sequence.pad_sequences(x_train, maxlen=MAX_LEN)\n",
    "\n",
    "x_valid = tokenizer.texts_to_sequences(x_valid)\n",
    "x_valid = sequence.pad_sequences(x_valid, maxlen=MAX_LEN)\n",
    "\n",
    "x_test = tokenizer.texts_to_sequences(x_test)\n",
    "x_test = sequence.pad_sequences(x_test, maxlen=MAX_LEN)"
   ]
  },
  {
   "cell_type": "code",
   "execution_count": 316,
   "metadata": {},
   "outputs": [],
   "source": [
    "def build_model(embedding_matrix):\n",
    "    words = Input(shape=(None,))\n",
    "    x = Embedding(*embedding_matrix.shape, weights=[embedding_matrix], trainable=False)(words)\n",
    "    x = SpatialDropout1D(0.2)(x)\n",
    "    x = Bidirectional(LSTM(LSTM_UNITS, return_sequences=True))(x)\n",
    "    x = Bidirectional(LSTM(LSTM_UNITS, return_sequences=True))(x)\n",
    "\n",
    "    hidden = concatenate([\n",
    "        GlobalMaxPooling1D()(x),\n",
    "        GlobalAveragePooling1D()(x),\n",
    "    ])\n",
    "    hidden = add([hidden, Dense(DENSE_HIDDEN_UNITS, activation='relu')(hidden)])\n",
    "    hidden = add([hidden, Dense(DENSE_HIDDEN_UNITS, activation='relu')(hidden)])\n",
    "    result = Dense(1, activation='sigmoid')(hidden)\n",
    "    \n",
    "    model = Model(inputs=words, outputs=result)\n",
    "    model.compile(loss='binary_crossentropy', optimizer='adam')\n",
    "\n",
    "    return model"
   ]
  },
  {
   "cell_type": "code",
   "execution_count": 317,
   "metadata": {},
   "outputs": [],
   "source": [
    "NUM_MODELS = 1\n",
    "BATCH_SIZE = 512\n",
    "EPOCHS = 5"
   ]
  },
  {
   "cell_type": "code",
   "execution_count": 318,
   "metadata": {},
   "outputs": [
    {
     "data": {
      "text/plain": [
       "(5329, 300)"
      ]
     },
     "execution_count": 318,
     "metadata": {},
     "output_type": "execute_result"
    }
   ],
   "source": [
    "x_train.shape"
   ]
  },
  {
   "cell_type": "code",
   "execution_count": 320,
   "metadata": {},
   "outputs": [
    {
     "data": {
      "text/plain": [
       "(2284, 300)"
      ]
     },
     "execution_count": 320,
     "metadata": {},
     "output_type": "execute_result"
    }
   ],
   "source": [
    "x_valid.shape"
   ]
  },
  {
   "cell_type": "code",
   "execution_count": 319,
   "metadata": {},
   "outputs": [
    {
     "data": {
      "text/plain": [
       "(3263, 300)"
      ]
     },
     "execution_count": 319,
     "metadata": {},
     "output_type": "execute_result"
    }
   ],
   "source": [
    "x_test.shape"
   ]
  },
  {
   "cell_type": "code",
   "execution_count": 321,
   "metadata": {
    "code_folding": [],
    "scrolled": true
   },
   "outputs": [
    {
     "name": "stdout",
     "output_type": "stream",
     "text": [
      "<tensorflow.python.keras.engine.training.Model object at 0x7fb7804c04a8>\n",
      "11/11 - 115s - loss: 0.5504\n",
      "11/11 - 97s - loss: 0.4328\n",
      "11/11 - 94s - loss: 0.4071\n",
      "11/11 - 97s - loss: 0.3916\n",
      "11/11 - 97s - loss: 0.3778\n"
     ]
    }
   ],
   "source": [
    "checkpoint_predictions = []\n",
    "weights = []\n",
    "\n",
    "for model_idx in range(NUM_MODELS):\n",
    "    model = build_model(embedding_matrix)\n",
    "    print(model)\n",
    "    for global_epoch in range(EPOCHS):\n",
    "        model.fit(\n",
    "            x_train,y_train,\n",
    "            batch_size=BATCH_SIZE,\n",
    "            epochs=1,\n",
    "            verbose=2\n",
    "        )\n",
    "        checkpoint_predictions.append(model.predict(x_valid, batch_size=BATCH_SIZE))\n",
    "        weights.append(2 ** global_epoch)"
   ]
  },
  {
   "cell_type": "code",
   "execution_count": 322,
   "metadata": {},
   "outputs": [],
   "source": [
    "predictions = np.average(checkpoint_predictions, weights=weights, axis=0)"
   ]
  },
  {
   "cell_type": "code",
   "execution_count": 333,
   "metadata": {},
   "outputs": [],
   "source": [
    "predictions = (predictions > 0.5).astype(int)"
   ]
  },
  {
   "cell_type": "code",
   "execution_count": 336,
   "metadata": {
    "scrolled": true
   },
   "outputs": [],
   "source": [
    "lstm_validation_accuracy = accuracy_score(y_valid, predictions)"
   ]
  },
  {
   "cell_type": "code",
   "execution_count": 337,
   "metadata": {},
   "outputs": [
    {
     "data": {
      "text/plain": [
       "0.8231173380035026"
      ]
     },
     "execution_count": 337,
     "metadata": {},
     "output_type": "execute_result"
    }
   ],
   "source": [
    "lstm_validation_accuracy"
   ]
  },
  {
   "cell_type": "code",
   "execution_count": null,
   "metadata": {},
   "outputs": [],
   "source": []
  }
 ],
 "metadata": {
  "kernelspec": {
   "display_name": "Python 3",
   "language": "python",
   "name": "python3"
  },
  "language_info": {
   "codemirror_mode": {
    "name": "ipython",
    "version": 3
   },
   "file_extension": ".py",
   "mimetype": "text/x-python",
   "name": "python",
   "nbconvert_exporter": "python",
   "pygments_lexer": "ipython3",
   "version": "3.6.8"
  }
 },
 "nbformat": 4,
 "nbformat_minor": 2
}
